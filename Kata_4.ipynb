{
 "cells": [
  {
   "cell_type": "markdown",
   "metadata": {},
   "source": [
    "# Ejercicio 1 Transformar Cadenas"
   ]
  },
  {
   "cell_type": "code",
   "execution_count": 49,
   "metadata": {},
   "outputs": [
    {
     "name": "stdout",
     "output_type": "stream",
     "text": [
      "[' On average, the Moon moves 4cm away from the Earth every year', ' The highest daylight temperature of the Moon is 127 C']\n",
      "['On average, the Moon moves 4cm away from the Earth every year', 'The highest daylight temperature of the Moon is 127 Celsius']\n"
     ]
    }
   ],
   "source": [
    "text = \"\"\"Interesting facts about the Moon. The Moon is Earth's only satellite. There are several interesting facts about the Moon and how it affects life here on Earth. \n",
    "On average, the Moon moves 4cm away from the Earth every year. This yearly drift is not significant enough to cause immediate effects on Earth. The highest daylight temperature of the Moon is 127 C.\"\"\"\n",
    "text = text.replace(\"\\n\",\"\")\n",
    "sentences = text.split('.')\n",
    "moonFacts = []\n",
    "modFacts = []\n",
    "\n",
    "for sentence in sentences:\n",
    "  for keyword in sentence.split():\n",
    "    if 'average' in keyword or 'temperature' in keyword or 'distance' in keyword:\n",
    "      moonFacts.append(sentence)\n",
    "print(moonFacts)\n",
    "\n",
    "for sentence in moonFacts:\n",
    "  modSentence = \"\"\n",
    "  wordArr = []\n",
    "  for keyword in sentence.split():\n",
    "    if keyword == \"C\":\n",
    "      keyword = keyword.replace(\"C\", \"Celsius\")\n",
    "      wordArr.append(keyword)\n",
    "    else:\n",
    "      wordArr.append(keyword)\n",
    "  modSentence = \" \".join(wordArr)\n",
    "  modFacts.append(modSentence)\n",
    "print(modFacts)\n",
    "\n",
    "\n"
   ]
  },
  {
   "cell_type": "markdown",
   "metadata": {},
   "source": [
    "# Ejercicio 2: Formateando Cadenas"
   ]
  },
  {
   "cell_type": "code",
   "execution_count": 70,
   "metadata": {},
   "outputs": [
    {
     "name": "stdout",
     "output_type": "stream",
     "text": [
      "Gravity Facts About The Moon\n",
      "-------------------------------\n",
      "Planet Name = Earth\n",
      "Gravity on The Moon: 1.62 m/s2\n",
      "\n",
      "Gravity Facts About Ganymede\n",
      "-------------------------------\n",
      "Planet Name = Mars\n",
      "Gravity on Ganymede: 1.43 m/s2\n",
      "\n"
     ]
    }
   ],
   "source": [
    "# Datos con los que vas a trabajar\n",
    "name = \"The Moon\"\n",
    "gravity = 0.00162 # in kms\n",
    "planet = \"Earth\"\n",
    "def template():\n",
    "  factsTitle = \"Gravity facts about \".title() + name\n",
    "  facts = f'Planet Name = {planet}\\nGravity on {name}: {round(gravity*1000, 2)} m/s2'\n",
    "  multiline = f'{factsTitle}\\n-------------------------------\\n{facts}\\n'\n",
    "  return multiline\n",
    "\n",
    "print(template())\n",
    "\n",
    "planet = \"Mars\"\n",
    "gravity = 0.00143\n",
    "name = \"Ganymede\"\n",
    "print(template())\n"
   ]
  }
 ],
 "metadata": {
  "interpreter": {
   "hash": "0f8b6743175fa564c0ba2fa4a52b9c613ba7ca386f4ed08e9fc56ac929070c0d"
  },
  "kernelspec": {
   "display_name": "Python 3.10.2 64-bit",
   "language": "python",
   "name": "python3"
  },
  "language_info": {
   "codemirror_mode": {
    "name": "ipython",
    "version": 3
   },
   "file_extension": ".py",
   "mimetype": "text/x-python",
   "name": "python",
   "nbconvert_exporter": "python",
   "pygments_lexer": "ipython3",
   "version": "3.10.2"
  },
  "orig_nbformat": 4
 },
 "nbformat": 4,
 "nbformat_minor": 2
}
