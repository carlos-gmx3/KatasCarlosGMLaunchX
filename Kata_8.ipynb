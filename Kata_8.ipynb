{
 "cells": [
  {
   "cell_type": "markdown",
   "metadata": {},
   "source": [
    "# Ejercicio 1: Creación de diccionarios con Python"
   ]
  },
  {
   "cell_type": "code",
   "execution_count": 11,
   "metadata": {},
   "outputs": [
    {
     "name": "stdout",
     "output_type": "stream",
     "text": [
      "The planet  Mars has  2 moons\n",
      "Mars circunferences are:\n",
      "polar   6752\n",
      "equatorial   6792\n"
     ]
    }
   ],
   "source": [
    "planet = {}\n",
    "planet.update({\n",
    "  'name': 'Mars', \n",
    "  'moons': 2\n",
    "})\n",
    "\n",
    "def plural(moons):\n",
    "  if moons > 1:\n",
    "    return 'moons'\n",
    "  else:\n",
    "    return 'moon'\n",
    "\n",
    "print(\"The planet \", planet.get('name'), \"has \", planet.get('moons'), plural(planet.get('moons')))\n",
    "\n",
    "planet.update({'circs': {'polar': 6752, 'equatorial': 6792}})\n",
    "print(planet.get('name'), \"circunferences are:\")\n",
    "for circ in planet.get('circs').items():\n",
    "  print(circ[0], \" \", circ[1])"
   ]
  },
  {
   "cell_type": "markdown",
   "metadata": {},
   "source": [
    "# Ejercicio 2: Programación dinámica con diccionarios"
   ]
  },
  {
   "cell_type": "code",
   "execution_count": 17,
   "metadata": {},
   "outputs": [
    {
     "name": "stdout",
     "output_type": "stream",
     "text": [
      "The total amount of moons in the solar system is: 214\n",
      "Thus, there are  17.83 moons per planet\n"
     ]
    }
   ],
   "source": [
    "planet_moons = {\n",
    "    'mercury': 0,\n",
    "    'venus': 0,\n",
    "    'earth': 1,\n",
    "    'mars': 2,\n",
    "    'jupiter': 79,\n",
    "    'saturn': 82,\n",
    "    'uranus': 27,\n",
    "    'neptune': 14,\n",
    "    'pluto': 5,\n",
    "    'haumea': 2,\n",
    "    'makemake': 1,\n",
    "    'eris': 1\n",
    "}\n",
    "moon_values = planet_moons.values();\n",
    "total_moons = 0\n",
    "for sum in moon_values:\n",
    "    total_moons += sum\n",
    "\n",
    "avg_moons = round(total_moons / len(moon_values), 2)\n",
    "print(\"The total amount of moons in the solar system is:\", total_moons)\n",
    "print(\"Thus, there are \", avg_moons, \"moons per planet\")\n"
   ]
  }
 ],
 "metadata": {
  "interpreter": {
   "hash": "0f8b6743175fa564c0ba2fa4a52b9c613ba7ca386f4ed08e9fc56ac929070c0d"
  },
  "kernelspec": {
   "display_name": "Python 3.10.2 64-bit",
   "language": "python",
   "name": "python3"
  },
  "language_info": {
   "codemirror_mode": {
    "name": "ipython",
    "version": 3
   },
   "file_extension": ".py",
   "mimetype": "text/x-python",
   "name": "python",
   "nbconvert_exporter": "python",
   "pygments_lexer": "ipython3",
   "version": "3.10.2"
  },
  "orig_nbformat": 4
 },
 "nbformat": 4,
 "nbformat_minor": 2
}
