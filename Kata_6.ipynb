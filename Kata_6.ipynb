{
 "cells": [
  {
   "cell_type": "markdown",
   "metadata": {},
   "source": [
    "# Ejercicio 1: Crear y usar listas de Python"
   ]
  },
  {
   "cell_type": "code",
   "execution_count": 2,
   "metadata": {},
   "outputs": [
    {
     "name": "stdout",
     "output_type": "stream",
     "text": [
      "Plutón\n"
     ]
    }
   ],
   "source": [
    "planets = ['Mercurio', 'Venus', 'Tierra', 'Marte', 'Jupiter', 'Saturno', 'Urano', 'Nepuno']\n",
    "planets.append('Plutón')\n",
    "print(planets[8])"
   ]
  },
  {
   "cell_type": "markdown",
   "metadata": {},
   "source": [
    "# Ejercicio 2"
   ]
  },
  {
   "cell_type": "code",
   "execution_count": 15,
   "metadata": {},
   "outputs": [
    {
     "name": "stdout",
     "output_type": "stream",
     "text": [
      "The planet Mars is the number  4 from the sun\n",
      "Before  Mars the planetes that are closer to the sun, are:\n",
      "Mercury\n",
      "Venus\n",
      "Earth\n",
      "From  Mars the next planets are:\n",
      "Jupiter\n",
      "Saturn\n",
      "Neptune\n"
     ]
    }
   ],
   "source": [
    "planets = ['Mercury', 'Venus', 'Earth', 'Mars', 'Jupiter', 'Saturn', 'Neptune']\n",
    "findPlanet = input(\"Type the name of the planet you're searching for\").capitalize()\n",
    "foundPlanetIndex = planets.index(findPlanet) + 1\n",
    "print(\"The planet\", findPlanet, \"is the number \", foundPlanetIndex, \"from the sun\")\n",
    "print(\"Before \", findPlanet, \"the planetes that are closer to the sun, are:\")\n",
    "remainPlanets = planets[0:(foundPlanetIndex - 1)]\n",
    "for planet in remainPlanets:\n",
    "  print(planet)\n",
    "print(\"From \", findPlanet, \"the next planets are:\")\n",
    "remainPlanets = planets[foundPlanetIndex:]\n",
    "for planet in remainPlanets:\n",
    "  print(planet)\n"
   ]
  }
 ],
 "metadata": {
  "interpreter": {
   "hash": "0f8b6743175fa564c0ba2fa4a52b9c613ba7ca386f4ed08e9fc56ac929070c0d"
  },
  "kernelspec": {
   "display_name": "Python 3.10.2 64-bit",
   "language": "python",
   "name": "python3"
  },
  "language_info": {
   "codemirror_mode": {
    "name": "ipython",
    "version": 3
   },
   "file_extension": ".py",
   "mimetype": "text/x-python",
   "name": "python",
   "nbconvert_exporter": "python",
   "pygments_lexer": "ipython3",
   "version": "3.10.2"
  },
  "orig_nbformat": 4
 },
 "nbformat": 4,
 "nbformat_minor": 2
}
