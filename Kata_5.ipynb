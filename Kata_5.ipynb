{
 "cells": [
  {
   "cell_type": "markdown",
   "metadata": {},
   "source": [
    "# Ejercicio 1 - Utilizar operadores aritméticos"
   ]
  },
  {
   "cell_type": "code",
   "execution_count": 2,
   "metadata": {},
   "outputs": [
    {
     "name": "stdout",
     "output_type": "stream",
     "text": [
      "628949330\n",
      "390577533.93\n"
     ]
    }
   ],
   "source": [
    "dTierraSol = 149597870\n",
    "dJupiterSol = 778547200\n",
    "dTierraJupiter = dJupiterSol - dTierraSol\n",
    "print(dTierraJupiter)\n",
    "print(dTierraJupiter * 0.621)"
   ]
  },
  {
   "cell_type": "markdown",
   "metadata": {},
   "source": [
    "# Ejercicio 2: Convierte cadenas en números y usa valores absolutos"
   ]
  },
  {
   "cell_type": "code",
   "execution_count": 6,
   "metadata": {},
   "outputs": [
    {
     "name": "stdout",
     "output_type": "stream",
     "text": [
      "La distancía de Mercurio a Neptuno es de 4437200000Km o 2755501200.0millas\n"
     ]
    }
   ],
   "source": [
    "planet1 = input(\"Ingresa el nombre del primer planeta\")\n",
    "planet2 = input(\"Ingresa el nombre del segundo planeta\")\n",
    "dPlanet1 = input(f'Ingresa la distancía de {planet1} al sol en km')\n",
    "dPlanet2 = input(f'Ingresa la distancía de {planet2} al sol un km')\n",
    "dP1P2 = abs(int(dPlanet1) - int(dPlanet2))\n",
    "print(f'La distancía de {planet1} a {planet2} es de {dP1P2}Km o {abs(dP1P2 * 0.621)}millas')\n"
   ]
  }
 ],
 "metadata": {
  "interpreter": {
   "hash": "0f8b6743175fa564c0ba2fa4a52b9c613ba7ca386f4ed08e9fc56ac929070c0d"
  },
  "kernelspec": {
   "display_name": "Python 3.10.2 64-bit",
   "language": "python",
   "name": "python3"
  },
  "language_info": {
   "codemirror_mode": {
    "name": "ipython",
    "version": 3
   },
   "file_extension": ".py",
   "mimetype": "text/x-python",
   "name": "python",
   "nbconvert_exporter": "python",
   "pygments_lexer": "ipython3",
   "version": "3.10.2"
  },
  "orig_nbformat": 4
 },
 "nbformat": 4,
 "nbformat_minor": 2
}
