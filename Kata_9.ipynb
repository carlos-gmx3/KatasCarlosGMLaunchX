{
 "cells": [
  {
   "cell_type": "markdown",
   "metadata": {},
   "source": [
    "# Ejercicio: Uso de funciones de Python"
   ]
  },
  {
   "cell_type": "code",
   "execution_count": 5,
   "metadata": {},
   "outputs": [
    {
     "name": "stdout",
     "output_type": "stream",
     "text": [
      "29.33\n"
     ]
    }
   ],
   "source": [
    "def avgGas(tank1, tank2, tank3):\n",
    "  return (tank1 + tank2 + tank3) / 3\n",
    "\n",
    "def gasReport():\n",
    "  car1 = int(input(\"Enter the gas that the 1st car needs\"))\n",
    "  car2 = int(input(\"Enter the gas that the 2nd car needs\"))\n",
    "  car3 = int(input(\"Enter the gas that the 3rd car needs\"))\n",
    "  print(round(avgGas(car1, car2, car3), 2))\n",
    "\n",
    "gasReport()"
   ]
  },
  {
   "cell_type": "markdown",
   "metadata": {},
   "source": [
    "# Ejercicio 2: Trabajo con argumentos de palabras clave"
   ]
  },
  {
   "cell_type": "code",
   "execution_count": 43,
   "metadata": {},
   "outputs": [
    {
     "name": "stdout",
     "output_type": "stream",
     "text": [
      "\n",
      "  Mission report\n",
      "  Destination: 13\n",
      "  Mission time estimated: 39\n",
      "  Max fuel available: 43000\n",
      "  \n",
      "transborder :  3000\n",
      "giantRocket :  20000\n",
      "sideRocket1 :  10000\n",
      "sideRocket2 :  10000\n"
     ]
    }
   ],
   "source": [
    "from datetime import timedelta, datetime\n",
    "def rocketLaunchReport(destination, *time, **fuel):\n",
    "  travelTime = sum(time)\n",
    "  fuelTanks = sum(fuel.values())\n",
    "  print(f\"\"\"\n",
    "  Mission report\n",
    "  Destination: {destination}\n",
    "  Mission time estimated: {travelTime}\n",
    "  Max fuel available: {fuelTanks}\n",
    "  \"\"\")\n",
    "  for fuelTank in fuel.items():\n",
    "    print(fuelTank[0], \": \", fuelTank[1])\n",
    "def missionDetails():\n",
    "  target = input(\"Where the rocket will go\")\n",
    "  preLauchTime = int(input(\"How much time we need to ge everything ready?\"))\n",
    "  flightTime = int(input(\"How long is gonna take to reach the destination?\"))\n",
    "  sojournTime = int(input(\"How much time do we need at the destination?\"))\n",
    "  rocketLaunchReport(target, preLauchTime, flightTime, sojournTime, transborder = 3000, giantRocket = 20000, sideRocket1 = 10000, sideRocket2 = 10000)\n",
    "\n",
    "missionDetails()\n",
    "  "
   ]
  }
 ],
 "metadata": {
  "interpreter": {
   "hash": "0f8b6743175fa564c0ba2fa4a52b9c613ba7ca386f4ed08e9fc56ac929070c0d"
  },
  "kernelspec": {
   "display_name": "Python 3.10.2 64-bit",
   "language": "python",
   "name": "python3"
  },
  "language_info": {
   "codemirror_mode": {
    "name": "ipython",
    "version": 3
   },
   "file_extension": ".py",
   "mimetype": "text/x-python",
   "name": "python",
   "nbconvert_exporter": "python",
   "pygments_lexer": "ipython3",
   "version": "3.10.2"
  },
  "orig_nbformat": 4
 },
 "nbformat": 4,
 "nbformat_minor": 2
}
