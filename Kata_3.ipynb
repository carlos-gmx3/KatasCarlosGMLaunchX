{
 "cells": [
  {
   "cell_type": "markdown",
   "metadata": {},
   "source": [
    "# Advertencía de velocidad"
   ]
  },
  {
   "cell_type": "code",
   "execution_count": 4,
   "metadata": {},
   "outputs": [
    {
     "name": "stdout",
     "output_type": "stream",
     "text": [
      "Todo en orden\n"
     ]
    }
   ],
   "source": [
    "vAsteroide = 0\n",
    "vAdvertencia = 25\n",
    "vAsteroide = input(\"Ingresa la velocidad del asteroide\")\n",
    "if int(vAsteroide) > vAdvertencia:\n",
    "  print(\"El asteroide se acerca muy rápido\")\n",
    "else:\n",
    "  print(\"Todo en orden\")"
   ]
  },
  {
   "cell_type": "markdown",
   "metadata": {},
   "source": [
    "# Posible lluvía de estrellas"
   ]
  },
  {
   "cell_type": "code",
   "execution_count": 5,
   "metadata": {},
   "outputs": [
    {
     "name": "stdout",
     "output_type": "stream",
     "text": [
      "Gente, busquen rayos en el cielo\n"
     ]
    }
   ],
   "source": [
    "vAsteroide = 0\n",
    "vRayos = 20\n",
    "vAdvertencia = 25\n",
    "vAsteroide = input(\"Ingresa la velocidad del asteroide\")\n",
    "if int(vAsteroide) > vAdvertencia:\n",
    "  print(\"El asteroide se acerca muy rápido\")\n",
    "elif int(vAsteroide) >= vRayos:\n",
    "  print(\"Gente, busquen rayos en el cielo\")\n",
    "else:\n",
    "  print(\"No hay de que preocuparse, se va a desintegrar\")"
   ]
  },
  {
   "cell_type": "markdown",
   "metadata": {},
   "source": [
    "# Se ve muy grande. Viste Armaggedon?"
   ]
  },
  {
   "cell_type": "code",
   "execution_count": 9,
   "metadata": {},
   "outputs": [
    {
     "name": "stdout",
     "output_type": "stream",
     "text": [
      "Revisa la trayectoría, porque el asteroide pdría incluso extinguir toda la vida\n"
     ]
    }
   ],
   "source": [
    "vRayos = 20\n",
    "vAdvertencia = 25\n",
    "vAsteroide = input(\"Ingresa la velocidad del asteroide\")\n",
    "dAsteroide = input(\"Ingresa el tamaño del asteroide\")\n",
    "if int(vAsteroide) > vAdvertencia and (25 < int(dAsteroide) and int(dAsteroide) < 1000):\n",
    "  print(\"Cuidado con el asteroide, se ve peligroso\")\n",
    "elif int(dAsteroide) > 1000:\n",
    "  print(\"Revisa la trayectoría, porque el asteroide pdría incluso extinguir toda la vida\")\n",
    "elif int(vAsteroide) >= vRayos:\n",
    "  print(\"Gente, busquen rayos en el cielo\")\n",
    "else:\n",
    "  print(\"No hay de que preocuparse, se va a desintegrar\")"
   ]
  }
 ],
 "metadata": {
  "interpreter": {
   "hash": "0f8b6743175fa564c0ba2fa4a52b9c613ba7ca386f4ed08e9fc56ac929070c0d"
  },
  "kernelspec": {
   "display_name": "Python 3.10.2 64-bit",
   "language": "python",
   "name": "python3"
  },
  "language_info": {
   "codemirror_mode": {
    "name": "ipython",
    "version": 3
   },
   "file_extension": ".py",
   "mimetype": "text/x-python",
   "name": "python",
   "nbconvert_exporter": "python",
   "pygments_lexer": "ipython3",
   "version": "3.10.2"
  },
  "orig_nbformat": 4
 },
 "nbformat": 4,
 "nbformat_minor": 2
}
